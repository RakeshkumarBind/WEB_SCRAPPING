{
 "cells": [
  {
   "cell_type": "raw",
   "id": "9e0c467a",
   "metadata": {},
   "source": [
    "#There are several ways to download YouTube videos using Python. \n",
    "One option is to use the pytube library, which is a lightweight and easy-to-use Python library for downloading YouTube videos.\n",
    "Here's an example of how you can use pytube to download a YouTube video:\n",
    "\n",
    "Install the pytube library:"
   ]
  },
  {
   "cell_type": "code",
   "execution_count": 1,
   "id": "fbcaa706",
   "metadata": {},
   "outputs": [
    {
     "name": "stdout",
     "output_type": "stream",
     "text": [
      "Collecting pytube\n",
      "  Downloading pytube-12.1.2-py3-none-any.whl (57 kB)\n",
      "Installing collected packages: pytube\n",
      "Successfully installed pytube-12.1.2\n"
     ]
    }
   ],
   "source": [
    "!pip install pytube"
   ]
  },
  {
   "cell_type": "raw",
   "id": "e611f612",
   "metadata": {},
   "source": [
    "Import the YouTube class from the pytube library and create a YouTube object:"
   ]
  },
  {
   "cell_type": "code",
   "execution_count": 2,
   "id": "50356743",
   "metadata": {},
   "outputs": [],
   "source": [
    "from pytube import YouTube\n",
    "yt= YouTube('https://www.youtube.com/watch?v=0djtjjy12fI&list=PLZoTAELRMXVNQszMgcC_0VwIZ8ATa-lPy')"
   ]
  },
  {
   "cell_type": "code",
   "execution_count": 3,
   "id": "5fdec7f8",
   "metadata": {},
   "outputs": [],
   "source": [
    "# Select the highest quality video stream\n",
    "stream = yt.streams.filter(progressive=True, file_extension='mp4').order_by('resolution').desc().first()\n",
    "\n",
    "# Or select a specific quality\n",
    "# stream = yt.streams.get_by_resolution('720p')\n",
    "\n",
    "# Or select a specific format\n",
    "# stream = yt.streams.get_by_itag(22)"
   ]
  },
  {
   "cell_type": "code",
   "execution_count": 4,
   "id": "b9f527a9",
   "metadata": {},
   "outputs": [],
   "source": [
    "#Use the download option of the stream object to download the video"
   ]
  },
  {
   "cell_type": "code",
   "execution_count": 5,
   "id": "5c6e282b",
   "metadata": {},
   "outputs": [
    {
     "data": {
      "text/plain": [
       "'C:\\\\Users\\\\DELL\\\\Statistics-Left Skewed And Right Skewed Distribution And Relation With Mean Median And Mode.mp4'"
      ]
     },
     "execution_count": 5,
     "metadata": {},
     "output_type": "execute_result"
    }
   ],
   "source": [
    "stream.download()"
   ]
  },
  {
   "cell_type": "code",
   "execution_count": null,
   "id": "527fdf52",
   "metadata": {},
   "outputs": [],
   "source": []
  }
 ],
 "metadata": {
  "kernelspec": {
   "display_name": "Python 3 (ipykernel)",
   "language": "python",
   "name": "python3"
  },
  "language_info": {
   "codemirror_mode": {
    "name": "ipython",
    "version": 3
   },
   "file_extension": ".py",
   "mimetype": "text/x-python",
   "name": "python",
   "nbconvert_exporter": "python",
   "pygments_lexer": "ipython3",
   "version": "3.9.12"
  }
 },
 "nbformat": 4,
 "nbformat_minor": 5
}
